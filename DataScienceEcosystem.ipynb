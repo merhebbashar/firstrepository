{
 "cells": [
  {
   "cell_type": "markdown",
   "id": "4025d807",
   "metadata": {},
   "source": [
    "# Data Science Tools and Ecosystem"
   ]
  },
  {
   "cell_type": "markdown",
   "id": "c10b6fd6",
   "metadata": {},
   "source": [
    "### In this notebook, Data Science Tools and Ecosystem are summarized."
   ]
  },
  {
   "cell_type": "markdown",
   "id": "4fc76edc",
   "metadata": {},
   "source": [
    "**Objectives**\n",
    "\n",
    " 1- List of popular languages that Data Scientists.\n",
    " \n",
    " 2- List of the commonly used libraries used by Data Scientists include.\n",
    " \n",
    " 3- List od data science tools.\n",
    " \n",
    " 4- Example  for an arithmetic expressions in Python.\n",
    " "
   ]
  },
  {
   "cell_type": "markdown",
   "id": "f69e5f5e",
   "metadata": {},
   "source": [
    "### 1-Some of the popular languages that Data Scientists use are:\n",
    "*  Python\n",
    "*  R\n",
    "*  Julia"
   ]
  },
  {
   "cell_type": "markdown",
   "id": "5c4311ba",
   "metadata": {},
   "source": [
    "### 2-Some of the commonly used libraries used by Data Scientists include:\n",
    "* Numpy\n",
    "* Keras\n",
    "* SciPy"
   ]
  },
  {
   "cell_type": "markdown",
   "id": "e16e7d1e",
   "metadata": {},
   "source": [
    "\n",
    " | 3-Data Science Tools|\n",
    "-----------\n",
    "|Spyder|\n",
    "|JupyterLab|\n",
    "|VS Code|"
   ]
  },
  {
   "cell_type": "markdown",
   "id": "527b6618",
   "metadata": {},
   "source": [
    "### 4- Below are a few examples of evaluating arithmetic expressions in Python.\n",
    " * $(a+b)^2= a^2+2*a*b+b^2 $\n",
    " * $ (a-b)(a+b) = a^2- b^2$"
   ]
  },
  {
   "cell_type": "code",
   "execution_count": 23,
   "id": "89dfa96c",
   "metadata": {},
   "outputs": [
    {
     "name": "stdout",
     "output_type": "stream",
     "text": [
      "17\n"
     ]
    }
   ],
   "source": [
    " #This a simple arithmetic expression to mutiply then add integers.\n",
    " x = (3*4)+5\n",
    "print(x)\n"
   ]
  },
  {
   "cell_type": "code",
   "execution_count": 24,
   "id": "f3bc032a",
   "metadata": {},
   "outputs": [
    {
     "name": "stdout",
     "output_type": "stream",
     "text": [
      "3.3333333333333335\n"
     ]
    }
   ],
   "source": [
    "# This will convert 200 minutes to hours by diving by 60.\n",
    "t = 200/60\n",
    "print(t)"
   ]
  },
  {
   "cell_type": "markdown",
   "id": "8b6f44a3",
   "metadata": {},
   "source": [
    "## **Author: Bashar Merheb**"
   ]
  },
  {
   "cell_type": "code",
   "execution_count": null,
   "id": "95a407fc",
   "metadata": {},
   "outputs": [],
   "source": []
  }
 ],
 "metadata": {
  "kernelspec": {
   "display_name": "Python 3 (ipykernel)",
   "language": "python",
   "name": "python3"
  },
  "language_info": {
   "codemirror_mode": {
    "name": "ipython",
    "version": 3
   },
   "file_extension": ".py",
   "mimetype": "text/x-python",
   "name": "python",
   "nbconvert_exporter": "python",
   "pygments_lexer": "ipython3",
   "version": "3.11.4"
  }
 },
 "nbformat": 4,
 "nbformat_minor": 5
}
